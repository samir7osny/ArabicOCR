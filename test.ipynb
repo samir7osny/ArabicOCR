{
 "nbformat": 4,
 "nbformat_minor": 2,
 "metadata": {
  "language_info": {
   "name": "python",
   "codemirror_mode": {
    "name": "ipython",
    "version": 3
   },
   "version": "3.7.4"
  },
  "orig_nbformat": 2,
  "file_extension": ".py",
  "mimetype": "text/x-python",
  "name": "python",
  "npconvert_exporter": "python",
  "pygments_lexer": "ipython3",
  "version": 3
 },
 "cells": [
  {
   "cell_type": "markdown",
   "execution_count": null,
   "metadata": {},
   "outputs": [],
   "source": [
    "Utilities"
   ]
  },
  {
   "cell_type": "code",
   "execution_count": 3,
   "metadata": {},
   "outputs": [
    {
     "ename": "ModuleNotFoundError",
     "evalue": "No module named 'preprocessing'",
     "output_type": "error",
     "traceback": [
      "\u001b[1;31m---------------------------------------------------------------------------\u001b[0m",
      "\u001b[1;31mModuleNotFoundError\u001b[0m                       Traceback (most recent call last)",
      "\u001b[1;32m<ipython-input-3-c7123c0dfb05>\u001b[0m in \u001b[0;36m<module>\u001b[1;34m\u001b[0m\n\u001b[0;32m      3\u001b[0m \u001b[1;32mimport\u001b[0m \u001b[0mnumpy\u001b[0m \u001b[1;32mas\u001b[0m \u001b[0mnp\u001b[0m\u001b[1;33m\u001b[0m\u001b[1;33m\u001b[0m\u001b[0m\n\u001b[0;32m      4\u001b[0m \u001b[1;32mimport\u001b[0m \u001b[0mmath\u001b[0m\u001b[1;33m\u001b[0m\u001b[1;33m\u001b[0m\u001b[0m\n\u001b[1;32m----> 5\u001b[1;33m \u001b[1;32mfrom\u001b[0m \u001b[0mpreprocessing\u001b[0m \u001b[1;32mimport\u001b[0m \u001b[1;33m*\u001b[0m\u001b[1;33m\u001b[0m\u001b[1;33m\u001b[0m\u001b[0m\n\u001b[0m\u001b[0;32m      6\u001b[0m \u001b[1;33m\u001b[0m\u001b[0m\n\u001b[0;32m      7\u001b[0m \u001b[1;32mdef\u001b[0m \u001b[0mtryFilters\u001b[0m\u001b[1;33m(\u001b[0m\u001b[1;33m)\u001b[0m\u001b[1;33m:\u001b[0m\u001b[1;33m\u001b[0m\u001b[1;33m\u001b[0m\u001b[0m\n",
      "\u001b[1;31mModuleNotFoundError\u001b[0m: No module named 'preprocessing'"
     ]
    }
   ],
   "source": [
    "import cv2\n",
    "import copy\n",
    "import numpy as np\n",
    "import math\n",
    "from Preprocessing import *\n",
    "\n",
    "def tryFilters():\n",
    "    img = cv2.imread('3.jpg',cv2.IMREAD_GRAYSCALE)\n",
    "    img[:, :] = 255 - img [:, :]\n",
    "    for Index, Row in enumerate(img):\n",
    "        if sum(Row) < 10:\n",
    "            img[Index, :] = 200\n",
    "    showImage(img)\n",
    "\n",
    "    #Try Median\n",
    "    img = cv2.imread('3.jpg',cv2.IMREAD_GRAYSCALE)\n",
    "    img[:, :] = 255 - img [:, :]\n",
    "    img = cv2.medianBlur(img, 3)\n",
    "    for Index, Row in enumerate(img):\n",
    "        if sum(Row) < 10:\n",
    "            img[Index, :] = 200\n",
    "    showImage(img)\n",
    "\n",
    "    #Try Min\n",
    "    img = cv2.imread('3.jpg',cv2.IMREAD_GRAYSCALE)\n",
    "    img[:, :] = 255 - img [:, :]\n",
    "    imgCopy = copy.deepcopy(img)\n",
    "    for Y in range(1, img.shape[0] - 1):\n",
    "        for X in range(1, img.shape[1] - 1):\n",
    "            imgCopy[Y, X] = min(img[Y, X], img[Y - 1, X], img[Y + 1, X], img[Y, X - 1], img[Y, X + 1])\n",
    "    img = imgCopy\n",
    "    for Index, Row in enumerate(img):\n",
    "        if sum(Row) < 10:\n",
    "            img[Index, :] = 200\n",
    "    showImage(img)\n",
    "\n",
    "def minFilter(img):\n",
    "    imgCopy = copy.deepcopy(img)\n",
    "    for Y in range(1, img.shape[0] - 1):\n",
    "        for X in range(1, img.shape[1] - 1):\n",
    "            imgCopy[Y, X] = min(img[Y, X], img[Y - 1, X], img[Y + 1, X], img[Y, X - 1], img[Y, X + 1])\n",
    "    img = imgCopy\n",
    "    for Index, Row in enumerate(img):\n",
    "        if sum(Row) < 10:\n",
    "            img[Index, :] = 200\n",
    "    return img"
   ]
  },
  {
   "cell_type": "markdown",
   "metadata": {},
   "outputs": [],
   "source": [
    "Seperate Words"
   ]
  },
  {
   "cell_type": "code",
   "execution_count": 6,
   "metadata": {},
   "outputs": [
    {
     "ename": "TypeError",
     "evalue": "'NoneType' object is not subscriptable",
     "output_type": "error",
     "traceback": [
      "\u001b[1;31m---------------------------------------------------------------------------\u001b[0m",
      "\u001b[1;31mTypeError\u001b[0m                                 Traceback (most recent call last)",
      "\u001b[1;32m<ipython-input-6-4680a2076b49>\u001b[0m in \u001b[0;36m<module>\u001b[1;34m\u001b[0m\n\u001b[0;32m      1\u001b[0m \u001b[0mimg\u001b[0m \u001b[1;33m=\u001b[0m \u001b[0mcv2\u001b[0m\u001b[1;33m.\u001b[0m\u001b[0mimread\u001b[0m\u001b[1;33m(\u001b[0m\u001b[1;34m'superthumb.jpg'\u001b[0m\u001b[1;33m,\u001b[0m\u001b[0mcv2\u001b[0m\u001b[1;33m.\u001b[0m\u001b[0mIMREAD_GRAYSCALE\u001b[0m\u001b[1;33m)\u001b[0m\u001b[1;33m\u001b[0m\u001b[1;33m\u001b[0m\u001b[0m\n\u001b[1;32m----> 2\u001b[1;33m \u001b[0mimg\u001b[0m \u001b[1;33m=\u001b[0m \u001b[1;36m255\u001b[0m \u001b[1;33m-\u001b[0m \u001b[0mimg\u001b[0m\u001b[1;33m[\u001b[0m\u001b[1;33m:\u001b[0m\u001b[1;33m,\u001b[0m\u001b[1;33m:\u001b[0m\u001b[1;33m]\u001b[0m\u001b[1;33m\u001b[0m\u001b[1;33m\u001b[0m\u001b[0m\n\u001b[0m\u001b[0;32m      3\u001b[0m \u001b[0mimg\u001b[0m \u001b[1;33m=\u001b[0m \u001b[0mcv2\u001b[0m\u001b[1;33m.\u001b[0m\u001b[0mresize\u001b[0m\u001b[1;33m(\u001b[0m\u001b[0mimg\u001b[0m\u001b[1;33m,\u001b[0m \u001b[1;33m(\u001b[0m\u001b[0mimg\u001b[0m\u001b[1;33m.\u001b[0m\u001b[0mshape\u001b[0m\u001b[1;33m[\u001b[0m\u001b[1;36m0\u001b[0m\u001b[1;33m]\u001b[0m \u001b[1;33m*\u001b[0m \u001b[1;36m2\u001b[0m\u001b[1;33m,\u001b[0m \u001b[0mimg\u001b[0m\u001b[1;33m.\u001b[0m\u001b[0mshape\u001b[0m\u001b[1;33m[\u001b[0m\u001b[1;36m1\u001b[0m\u001b[1;33m]\u001b[0m \u001b[1;33m*\u001b[0m \u001b[1;36m2\u001b[0m\u001b[1;33m)\u001b[0m\u001b[1;33m)\u001b[0m\u001b[1;33m\u001b[0m\u001b[1;33m\u001b[0m\u001b[0m\n\u001b[0;32m      4\u001b[0m \u001b[0mRIndecies\u001b[0m \u001b[1;33m=\u001b[0m \u001b[1;33m[\u001b[0m\u001b[0mIndex\u001b[0m \u001b[1;32mfor\u001b[0m \u001b[0mIndex\u001b[0m\u001b[1;33m,\u001b[0m \u001b[0mRow\u001b[0m \u001b[1;32min\u001b[0m \u001b[0menumerate\u001b[0m\u001b[1;33m(\u001b[0m\u001b[0mimg\u001b[0m\u001b[1;33m)\u001b[0m \u001b[1;32mif\u001b[0m \u001b[0msum\u001b[0m\u001b[1;33m(\u001b[0m\u001b[0mRow\u001b[0m\u001b[1;33m)\u001b[0m \u001b[1;33m<\u001b[0m \u001b[0mlen\u001b[0m\u001b[1;33m(\u001b[0m\u001b[0mRow\u001b[0m\u001b[1;33m)\u001b[0m \u001b[1;33m*\u001b[0m \u001b[1;36m2\u001b[0m\u001b[1;33m]\u001b[0m\u001b[1;33m\u001b[0m\u001b[1;33m\u001b[0m\u001b[0m\n\u001b[0;32m      5\u001b[0m \u001b[1;32mfor\u001b[0m \u001b[0mIndex\u001b[0m \u001b[1;32min\u001b[0m \u001b[0mRIndecies\u001b[0m\u001b[1;33m:\u001b[0m\u001b[1;33m\u001b[0m\u001b[1;33m\u001b[0m\u001b[0m\n",
      "\u001b[1;31mTypeError\u001b[0m: 'NoneType' object is not subscriptable"
     ]
    }
   ],
   "source": [
    "img = cv2.imread('superthumb.jpg',cv2.IMREAD_GRAYSCALE)\n",
    "img = 255 - img[:,:]\n",
    "img = cv2.resize(img, (img.shape[0] * 2, img.shape[1] * 2))\n",
    "RIndecies = [Index for Index, Row in enumerate(img) if sum(Row) < len(Row) * 2]\n",
    "for Index in RIndecies:\n",
    "    img[Index, :] = 125\n",
    "#print(newimg)\n",
    "Images = []\n",
    "ImgStarted = -1\n",
    "ImgEnded = -1\n",
    "for RIndex in range(img.shape[0]):\n",
    "    if len([False for Pixel in img[RIndex, :] if Pixel != 125]) > 0 and ImgStarted == -1 and ImgEnded == -1:\n",
    "        ImgStarted = RIndex\n",
    "    elif len([False for Pixel in img[RIndex, :] if Pixel != 125]) == 0 and ImgStarted != -1 and ImgEnded == -1:\n",
    "        ImgEnded = RIndex\n",
    "    if ImgStarted != -1 and ImgEnded != -1:\n",
    "        Images.append(img[ImgStarted:ImgEnded, :])\n",
    "        ImgStarted = -1\n",
    "        ImgEnded = -1\n",
    "\n",
    "WordsImages = []\n",
    "for Img in Images:\n",
    "    CIndecies = [Index for Index in range(Img.shape[1]) if sum(Img[:, Index]) < len(Img[:, Index]) * 10]\n",
    "    for Index in CIndecies:\n",
    "        Img[:, Index] = 125\n",
    "    ImgStarted = -1\n",
    "    ImgEnded = -1\n",
    "    for CIndex in reversed(range(Img.shape[1])):\n",
    "        if len([False for Pixel in Img[:, CIndex] if Pixel != 125]) > 0 and ImgStarted == -1 and ImgEnded == -1:\n",
    "            ImgStarted = CIndex\n",
    "        elif len([False for Pixel in Img[:, CIndex] if Pixel != 125]) == 0 and ImgStarted != -1 and ImgEnded == -1:\n",
    "            ImgEnded = CIndex\n",
    "        if ImgStarted != -1 and ImgEnded != -1:\n",
    "            WordsImages.append(Img[:, ImgEnded:ImgStarted])\n",
    "            ImgStarted = -1\n",
    "            ImgEnded = -1\n",
    "            \n",
    "for Img in WordsImages:\n",
    "    cv2.imshow('image',Img)\n",
    "    cv2.waitKey(0)\n",
    "    cv2.destroyAllWindows()"
   ]
  },
  {
   "cell_type": "markdown",
   "execution_count": null,
   "metadata": {},
   "outputs": [],
   "source": [
    "Detect Rotation"
   ]
  },
  {
   "cell_type": "code",
   "execution_count": 50,
   "metadata": {},
   "outputs": [
    {
     "name": "stdout",
     "output_type": "stream",
     "text": "9.462322235107422\n"
    }
   ],
   "source": [
    "img = cv2.imread('rotated.jpg',cv2.IMREAD_GRAYSCALE)\n",
    "img[:, :] = 255 - img[:, :] \n",
    "showImage(img, \"Original\")\n",
    "\n",
    "coords = np.column_stack(np.where(img > 0))\n",
    "angle = cv2.minAreaRect(coords)[-1]\n",
    "if angle < -45:\n",
    "\tangle = -(90 + angle)\n",
    "else:\n",
    "\tangle = -angle\n",
    "\n",
    "print(angle)\n",
    "\n",
    "(h, w) = img.shape[:2]\n",
    "center = (w // 2, h // 2)\n",
    "M = cv2.getRotationMatrix2D(center, angle, 1.0)\n",
    "rotated = cv2.warpAffine(img, M, (w, h),\n",
    "\tflags=cv2.INTER_CUBIC, borderMode=cv2.BORDER_REPLICATE)\n",
    "\n",
    "cv2.putText(rotated, \"Angle: {:.2f} degrees\".format(angle),\n",
    "\t(10, 30), cv2.FONT_HERSHEY_SIMPLEX, 0.7, (0, 0, 255), 2)\n",
    "\n",
    "showImage(rotated)"
   ]
  },
  {
   "cell_type": "code",
   "execution_count": 49,
   "metadata": {},
   "outputs": [
    {
     "name": "stdout",
     "output_type": "stream",
     "text": "584 5807\n9.563283829543053\n"
    }
   ],
   "source": [
    "img = cv2.imread('rotated.jpg',cv2.IMREAD_GRAYSCALE)\n",
    "img[:, :] = 255 - img[:, :] \n",
    "showImage(img, \"Original\")\n",
    "\n",
    "coords = np.where(img > 200)\n",
    "maxYIndex = np.argmax(coords[0])\n",
    "maxXIndex = np.argmax(coords[1])\n",
    "print(maxXIndex, maxYIndex)\n",
    "coords = [       [ coords[0][maxYIndex], coords[0][maxXIndex] ]       ,          [ coords[1][maxYIndex], coords[1][maxXIndex] ]        ]\n",
    "slope = (coords[0][0] - coords[0][1]) / (coords[1][0] - coords[1][1])\n",
    "angle = math.degrees(math.atan(slope))\n",
    "angle = angle if angle > 0 else 90 + angle\n",
    "print(angle)\n",
    "\n",
    "\n",
    "# img = cv2.cvtColor(img, cv2.COLOR_GRAY2RGB)\n",
    "# for index in range(len(coords[0])):\n",
    "#     pointY = coords[0][index]\n",
    "#     pointX = coords[1][index]\n",
    "#     radius = 1\n",
    "#     color = (0, 0, 255)\n",
    "#     thickness = 1\n",
    "#     center_coordinates = (pointX, pointY)\n",
    "#     img = cv2.circle(img, center_coordinates, radius, color, thickness) \n",
    "# showImage(img)\n",
    "\n",
    "(h, w) = img.shape[:2]\n",
    "center = (w // 2, h // 2)\n",
    "M = cv2.getRotationMatrix2D(center, angle, 1.0)\n",
    "rotated = cv2.warpAffine(img, M, (w, h),\n",
    "\tflags=cv2.INTER_CUBIC, borderMode=cv2.BORDER_REPLICATE)\n",
    "\n",
    "cv2.putText(rotated, \"Angle: {:.2f} degrees\".format(angle),\n",
    "\t(10, 30), cv2.FONT_HERSHEY_SIMPLEX, 0.7, (0, 0, 255), 2)\n",
    "\n",
    "showImage(rotated)"
   ]
  },
  {
   "cell_type": "code",
   "execution_count": 10,
   "metadata": {},
   "outputs": [],
   "source": [
    "Img = loadImage('csep958.png')\n",
    "Img = invertImage(Img)\n",
    "Img = fixSkew(Img)\n",
    "Words = seperateWords(Img)\n",
    "\n",
    "for Word in Words:\n",
    "    BorderWidth = 50\n",
    "    Word = cv2.copyMakeBorder(Word, BorderWidth, BorderWidth, BorderWidth, BorderWidth, cv2.BORDER_CONSTANT, value = (0, 0, 0))\n",
    "    Word = cv2.resize(Word, (Word.shape[0] * 5, Word.shape[1] * 5))\n",
    "    Word[Word < 100] = 0\n",
    "    Word[Word >= 100] = 255\n",
    "    showImage(Word)\n",
    "    # edges = cv2.Canny(Word,50,120)\n",
    "    # lines = cv2.HoughLines(edges, 1, np.pi / 90, 1)\n",
    "    # print(len(lines if lines is not None else []))"
   ]
  },
  {
   "cell_type": "code",
   "execution_count": 2,
   "metadata": {},
   "outputs": [
    {
     "ename": "TypeError",
     "evalue": "integer argument expected, got float",
     "output_type": "error",
     "traceback": [
      "\u001b[1;31m---------------------------------------------------------------------------\u001b[0m",
      "\u001b[1;31mTypeError\u001b[0m                                 Traceback (most recent call last)",
      "\u001b[1;32m<ipython-input-2-5a04ddfd9e0f>\u001b[0m in \u001b[0;36m<module>\u001b[1;34m\u001b[0m\n\u001b[0;32m      2\u001b[0m \u001b[1;32mfrom\u001b[0m \u001b[0mFeaturesExtractor\u001b[0m \u001b[1;32mimport\u001b[0m \u001b[1;33m*\u001b[0m\u001b[1;33m\u001b[0m\u001b[1;33m\u001b[0m\u001b[0m\n\u001b[0;32m      3\u001b[0m \u001b[0mImg\u001b[0m \u001b[1;33m=\u001b[0m \u001b[0mloadImage\u001b[0m\u001b[1;33m(\u001b[0m\u001b[1;34m'1.png'\u001b[0m\u001b[1;33m)\u001b[0m\u001b[1;33m\u001b[0m\u001b[1;33m\u001b[0m\u001b[0m\n\u001b[1;32m----> 4\u001b[1;33m \u001b[0mH\u001b[0m \u001b[1;33m=\u001b[0m \u001b[0mgetHistogram\u001b[0m\u001b[1;33m(\u001b[0m\u001b[0mImg\u001b[0m\u001b[1;33m)\u001b[0m\u001b[1;33m\u001b[0m\u001b[1;33m\u001b[0m\u001b[0m\n\u001b[0m\u001b[0;32m      5\u001b[0m \u001b[0mprint\u001b[0m\u001b[1;33m(\u001b[0m\u001b[0mH\u001b[0m\u001b[1;33m)\u001b[0m\u001b[1;33m\u001b[0m\u001b[1;33m\u001b[0m\u001b[0m\n",
      "\u001b[1;32md:\\Learning\\CMP\\4A\\Pattern Recognition\\Project\\FeaturesExtractor.py\u001b[0m in \u001b[0;36mgetHistogram\u001b[1;34m(Img, angle, bins)\u001b[0m\n\u001b[0;32m     13\u001b[0m     \u001b[0mWPadding\u001b[0m \u001b[1;33m=\u001b[0m \u001b[1;33m(\u001b[0m\u001b[0mMaxD\u001b[0m \u001b[1;33m-\u001b[0m \u001b[0mw\u001b[0m\u001b[1;33m)\u001b[0m \u001b[1;33m/\u001b[0m \u001b[1;36m2\u001b[0m\u001b[1;33m\u001b[0m\u001b[1;33m\u001b[0m\u001b[0m\n\u001b[0;32m     14\u001b[0m     \u001b[0mHPadding\u001b[0m \u001b[1;33m=\u001b[0m \u001b[1;33m(\u001b[0m\u001b[0mMaxD\u001b[0m \u001b[1;33m-\u001b[0m \u001b[0mh\u001b[0m\u001b[1;33m)\u001b[0m \u001b[1;33m/\u001b[0m \u001b[1;36m2\u001b[0m\u001b[1;33m\u001b[0m\u001b[1;33m\u001b[0m\u001b[0m\n\u001b[1;32m---> 15\u001b[1;33m     \u001b[0mprint\u001b[0m\u001b[1;33m(\u001b[0m\u001b[0mh\u001b[0m\u001b[1;33m,\u001b[0m \u001b[0mw\u001b[0m\u001b[1;33m,\u001b[0m \u001b[0mMaxD\u001b[0m\u001b[1;33m)\u001b[0m\u001b[1;33m\u001b[0m\u001b[1;33m\u001b[0m\u001b[0m\n\u001b[0m\u001b[0;32m     16\u001b[0m     \u001b[0mprint\u001b[0m\u001b[1;33m(\u001b[0m\u001b[0mWPadding\u001b[0m\u001b[1;33m,\u001b[0m \u001b[0mHPadding\u001b[0m\u001b[1;33m)\u001b[0m\u001b[1;33m\u001b[0m\u001b[1;33m\u001b[0m\u001b[0m\n\u001b[0;32m     17\u001b[0m     \u001b[0mImg\u001b[0m \u001b[1;33m=\u001b[0m \u001b[0mcv2\u001b[0m\u001b[1;33m.\u001b[0m\u001b[0mcopyMakeBorder\u001b[0m\u001b[1;33m(\u001b[0m\u001b[0mImg\u001b[0m\u001b[1;33m,\u001b[0m \u001b[0mHPadding\u001b[0m\u001b[1;33m,\u001b[0m \u001b[0mHPadding\u001b[0m\u001b[1;33m,\u001b[0m \u001b[0mWPadding\u001b[0m\u001b[1;33m,\u001b[0m \u001b[0mWPadding\u001b[0m\u001b[1;33m,\u001b[0m \u001b[0mcv2\u001b[0m\u001b[1;33m.\u001b[0m\u001b[0mBORDER_CONSTANT\u001b[0m\u001b[1;33m,\u001b[0m \u001b[0mvalue\u001b[0m \u001b[1;33m=\u001b[0m \u001b[1;33m(\u001b[0m\u001b[1;36m0\u001b[0m\u001b[1;33m,\u001b[0m \u001b[1;36m0\u001b[0m\u001b[1;33m,\u001b[0m \u001b[1;36m0\u001b[0m\u001b[1;33m)\u001b[0m\u001b[1;33m)\u001b[0m\u001b[1;33m\u001b[0m\u001b[1;33m\u001b[0m\u001b[0m\n",
      "\u001b[1;31mTypeError\u001b[0m: integer argument expected, got float"
     ]
    }
   ],
   "source": [
    "from Utilities import *\n",
    "from FeaturesExtractor import *\n",
    "Img = loadImage('1.png')\n",
    "H = getHistogram(Img)\n",
    "print(H)\n"
   ]
  },
  {
   "cell_type": "code",
   "execution_count": null,
   "metadata": {},
   "outputs": [],
   "source": []
  }
 ]
}